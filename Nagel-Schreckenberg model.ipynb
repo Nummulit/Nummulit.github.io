{
 "cells": [
  {
   "cell_type": "markdown",
   "metadata": {},
   "source": [
    "Implement the origial [Nagel-Schreckenberg model of freeway traffic](https://en.wikipedia.org/wiki/Nagel%E2%80%93Schreckenberg_model):\n",
    "1. Run the model for different probabilities $p$ of slowing down.\n",
    "2. Plot the average velocity as a function of the density $\\rho$ of cars per cell for different values of $p$.\n",
    "3. Visualize the evolution of the system for $p = 0.3$ and $\\rho = 0.1$, $0.2$, $0.6$.\n",
    "4. (optional) Add a second lane (in the same direction) to the model and a rule that allows overtaking. Compare the results for the average velocity with the previous case."
   ]
  },
  {
   "cell_type": "code",
   "execution_count": 235,
   "metadata": {},
   "outputs": [],
   "source": [
    "import random\n",
    "import numpy as np\n",
    "import matplotlib.pyplot as plt"
   ]
  },
  {
   "cell_type": "code",
   "execution_count": 236,
   "metadata": {},
   "outputs": [],
   "source": [
    "class Car:\n",
    "    def __init__(self, speed, max_speed):\n",
    "        self.speed = speed\n",
    "        self.max_speed = max_speed\n",
    "    \n",
    "    def __repr__(self):\n",
    "        return f\"Car(speed={self.speed})\""
   ]
  },
  {
   "cell_type": "code",
   "execution_count": 339,
   "metadata": {},
   "outputs": [],
   "source": [
    "class PeriodicTrack:\n",
    "    def __init__(self, array):\n",
    "        self._array = array\n",
    "        \n",
    "    def __getitem__(self, index):\n",
    "        index = self._wrap_index(index)\n",
    "        return self._array.__getitem__(index)\n",
    "    \n",
    "    def __setitem__(self, index, value):\n",
    "        index = self._wrap_index(index)\n",
    "        return self._array.__setitem__(index, value)\n",
    "    \n",
    "    def __iter__(self):\n",
    "        return self._array.__iter__()\n",
    "    \n",
    "    def __repr__(self):\n",
    "        return self._array.__repr__()\n",
    "    \n",
    "    def __len__(self):\n",
    "        return self._array.__len__()\n",
    "    \n",
    "    @staticmethod\n",
    "    def random_track(length, n_cars, vmin=1, vmax=5):\n",
    "        list_ = [None for _ in range(length)]\n",
    "        indicies = random.sample(range(length), n_cars)\n",
    "        for index in indicies:\n",
    "            list_[index] = Car(random.randint(vmin, vmax), vmax)\n",
    "        return PeriodicTrack(list_)\n",
    "    \n",
    "    @staticmethod\n",
    "    def empty(length):\n",
    "        return PeriodicTrack([None for _ in range(length)])\n",
    "    \n",
    "    def _wrap_index(self, index):\n",
    "        _len = len(self._array)\n",
    "        return (index % _len + _len) % _len\n",
    "    \n",
    "    def copy(self):\n",
    "        return PeriodicTrack(self._array.copy())\n",
    "    \n",
    "    def distance_to_next_obj(self, index):\n",
    "        dist = 0\n",
    "        i = index + 1\n",
    "        while self[i] is None:\n",
    "            dist += 1\n",
    "            i += 1\n",
    "        return dist\n",
    "    \n",
    "    def plot(self):\n",
    "        indices = [i for i, car in enumerate(self) if not car is None]\n",
    "        speeds = [car.speed for car in self if not car is None]\n",
    "        \n",
    "        speeds_background = [car.speed if car is not None else 0 for car in self]\n",
    "        plt.step(range(len(speeds_background)), speeds_background, where='mid', linestyle=':', color='black', alpha=0.7)\n",
    "        plt.plot(indices, speeds, linestyle='', marker='*', markersize=15, color='gold', markeredgecolor='red')\n",
    "        plt.ylim(0, 5.5)  # TMP\n",
    "        plt.grid(alpha=0.3)\n",
    "        plt.show()"
   ]
  },
  {
   "cell_type": "code",
   "execution_count": 331,
   "metadata": {
    "hideCode": true
   },
   "outputs": [],
   "source": [
    "def update_track(track):\n",
    "    track = track.copy()\n",
    "    new_track = PeriodicTrack.empty(len(track))\n",
    "    for i, car in enumerate(track):\n",
    "        if not car is None:\n",
    "            car.speed = min(car.speed + 1, car.max_speed)  # Acceleration\n",
    "            track[i] = Car(min(track.distance_to_next_obj(i), car.speed), car.max_speed)  #Slowing down\n",
    "            # Randomization\n",
    "    for i, car in enumerate(track):\n",
    "        if not car is None:\n",
    "            new_track[i + car.speed] = car\n",
    "    return new_track"
   ]
  },
  {
   "cell_type": "code",
   "execution_count": 340,
   "metadata": {
    "scrolled": true
   },
   "outputs": [
    {
     "data": {
      "image/png": "[encoded data removed]",
      "text/plain": [
       "<Figure size 432x288 with 1 Axes>"
      ]
     },
     "metadata": {
      "needs_background": "light"
     },
     "output_type": "display_data"
    }
   ],
   "source": [
    "t1 = PeriodicTrack.random_track(10, 5)\n",
    "t1.plot()"
   ]
  },
  {
   "cell_type": "code",
   "execution_count": 341,
   "metadata": {},
   "outputs": [
    {
     "data": {
      "image/png": "[encoded data removed]",
      "text/plain": [
       "<Figure size 432x288 with 1 Axes>"
      ]
     },
     "metadata": {
      "needs_background": "light"
     },
     "output_type": "display_data"
    }
   ],
   "source": [
    "t2 = update_track(t1)\n",
    "t2.plot()"
   ]
  },
  {
   "cell_type": "code",
   "execution_count": 163,
   "metadata": {},
   "outputs": [
    {
     "data": {
      "text/plain": [
       "2"
      ]
     },
     "execution_count": 163,
     "metadata": {},
     "output_type": "execute_result"
    }
   ],
   "source": [
    "next(i for i, _ in enumerate(t1) if isinstance(_, Car))"
   ]
  },
  {
   "cell_type": "code",
   "execution_count": null,
   "metadata": {},
   "outputs": [],
   "source": [
    "class PeriodicTrack(np.ndarray):\n",
    "    def __new__(cls, input_array):\n",
    "        obj = np.asarray(input_array).view(cls)\n",
    "        return obj\n",
    "\n",
    "    def __getitem__(self, index):\n",
    "        index = self._wrap_index(index)\n",
    "        return super(PeriodicTrack, self).__getitem__(index)\n",
    "\n",
    "    def __setitem__(self, index, value):\n",
    "        index = self._wrap_index(index)\n",
    "        return super(PeriodicTrack, self).__setitem__(index, value)\n",
    "    \n",
    "    def _wrap_index(self, index):\n",
    "        if type(index) == int:\n",
    "            return (index % self.shape[0] + self.shape[0]) % self.shape[0]\n",
    "        if (type(index) == slice \n",
    "            or any(type(i) in (list, slice) for i in index)):\n",
    "            return index\n",
    "        if len(index) != len(self.shape):\n",
    "            return index\n",
    "        if len(index) == len(self.shape):\n",
    "            mod_index = tuple((i % shape + shape) % shape for i, shape in zip(index, self.shape))\n",
    "            return mod_index\n",
    "    "
   ]
  },
  {
   "cell_type": "code",
   "execution_count": null,
   "metadata": {},
   "outputs": [],
   "source": []
  },
  {
   "cell_type": "code",
   "execution_count": null,
   "metadata": {},
   "outputs": [],
   "source": []
  },
  {
   "cell_type": "code",
   "execution_count": null,
   "metadata": {},
   "outputs": [],
   "source": []
  },
  {
   "cell_type": "code",
   "execution_count": null,
   "metadata": {},
   "outputs": [],
   "source": []
  },
  {
   "cell_type": "code",
   "execution_count": null,
   "metadata": {},
   "outputs": [],
   "source": []
  },
  {
   "cell_type": "code",
   "execution_count": null,
   "metadata": {},
   "outputs": [],
   "source": []
  },
  {
   "cell_type": "code",
   "execution_count": 1,
   "metadata": {},
   "outputs": [],
   "source": [
    "import numpy as np\n",
    "import matplotlib.pyplot as plt"
   ]
  },
  {
   "cell_type": "code",
   "execution_count": 3,
   "metadata": {},
   "outputs": [],
   "source": [
    "class PeriodicLattice(np.ndarray):\n",
    "    def __new__(cls, input_array):\n",
    "        obj = np.asarray(input_array).view(cls)\n",
    "        return obj\n",
    "\n",
    "    def __getitem__(self, index):\n",
    "        index = self._wrap_index(index)\n",
    "        return super(PeriodicLattice, self).__getitem__(index)\n",
    "\n",
    "    def __setitem__(self, index, value):\n",
    "        index = self._wrap_index(index)\n",
    "        return super(PeriodicLattice, self).__setitem__(index, value)\n",
    "    \n",
    "    def _wrap_index(self, index):\n",
    "        if type(index) == int:\n",
    "            return (index % self.shape[0] + self.shape[0]) % self.shape[0]\n",
    "        if (type(index) == slice \n",
    "            or any(type(i) in (list, slice) for i in index)):\n",
    "            return index\n",
    "        if len(index) != len(self.shape):\n",
    "            return index\n",
    "        if len(index) == len(self.shape):\n",
    "            mod_index = tuple((i % shape + shape) % shape for i, shape in zip(index, self.shape))\n",
    "            return mod_index\n",
    "        \n",
    "    def neighbours(self, index, radius=1):\n",
    "        xc, yc = index  # Center\n",
    "        indices = [self._wrap_index((x, y)) for x in range(xc - radius, xc + radius + 1) \n",
    "                   for y in range(yc - radius, yc + radius + 1) \n",
    "                   if (x, y) != (xc, yc)]\n",
    "        # We count only distinct neighbours\n",
    "        indices = list(dict.fromkeys(indices))  # As of python 3.7 dict.fromkeys() preserves order\n",
    "        xs = [x for x, y in indices]\n",
    "        ys = [y for x, y in indices]\n",
    "        return np.array(self[xs, ys])"
   ]
  },
  {
   "cell_type": "code",
   "execution_count": 6,
   "metadata": {},
   "outputs": [],
   "source": [
    "N = 10"
   ]
  },
  {
   "cell_type": "code",
   "execution_count": 8,
   "metadata": {},
   "outputs": [],
   "source": [
    "track = PeriodicLattice(np.zeros(N))"
   ]
  },
  {
   "cell_type": "code",
   "execution_count": 9,
   "metadata": {},
   "outputs": [
    {
     "data": {
      "text/plain": [
       "PeriodicLattice([0., 0., 0., 0., 0., 0., 0., 0., 0., 0.])"
      ]
     },
     "execution_count": 9,
     "metadata": {},
     "output_type": "execute_result"
    }
   ],
   "source": [
    "track"
   ]
  },
  {
   "cell_type": "code",
   "execution_count": null,
   "metadata": {},
   "outputs": [],
   "source": []
  }
 ],
 "metadata": {
  "kernelspec": {
   "display_name": "Python 3",
   "language": "python",
   "name": "python3"
  },
  "language_info": {
   "codemirror_mode": {
    "name": "ipython",
    "version": 3
   },
   "file_extension": ".py",
   "mimetype": "text/x-python",
   "name": "python",
   "nbconvert_exporter": "python",
   "pygments_lexer": "ipython3",
   "version": "3.7.3"
  }
 },
 "nbformat": 4,
 "nbformat_minor": 2
}
